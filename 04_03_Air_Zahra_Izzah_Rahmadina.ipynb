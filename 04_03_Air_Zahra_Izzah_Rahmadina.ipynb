{
  "nbformat": 4,
  "nbformat_minor": 0,
  "metadata": {
    "colab": {
      "provenance": []
    },
    "kernelspec": {
      "name": "python3",
      "display_name": "Python 3"
    },
    "language_info": {
      "name": "python"
    }
  },
  "cells": [
    {
      "cell_type": "markdown",
      "source": [
        "# MNIST HANDWRITING"
      ],
      "metadata": {
        "id": "fp2ESUxQv25r"
      }
    },
    {
      "cell_type": "markdown",
      "source": [
        "Tugas eksplorasi ini melibatkan penggunaan Deep Learning dengan PyTorch untuk mengklasifikasikan digit tulisan tangan dalam dataset MNIST. Silakan buat alur kerja end-to-end Anda sendiri untuk menyelesaikan tugas Klasifikasi Digit Tulisan Tangan ini dengan menggunakan arsitektur Jaringan Saraf Tiruan (Neural Network) tanpa menggunakan Convolutional Neural Network (CNN). Berikut adalah kriteria penilaian yang akan digunakan:"
      ],
      "metadata": {
        "id": "DMLiaSEUgNcg"
      }
    },
    {
      "cell_type": "code",
      "source": [
        "#Import libraries\n",
        "import torch\n",
        "import torch.nn as nn\n",
        "import torch.optim as optim\n",
        "import torchvision\n",
        "import torchvision.transforms as transforms"
      ],
      "metadata": {
        "id": "iF--Gg5Kp8X8"
      },
      "execution_count": null,
      "outputs": []
    },
    {
      "cell_type": "markdown",
      "source": [
        "###1. Loading your MNIST dataset for the data loader"
      ],
      "metadata": {
        "id": "EaQfg0HJgbC6"
      }
    },
    {
      "cell_type": "code",
      "source": [
        "# Langkah 1: Muat dataset MNIST dan siapkan data loader\n",
        "transform = transforms.Compose([transforms.ToTensor(), transforms.Normalize((0.5,), (0.5,))])\n",
        "\n",
        "# Dataset pelatihan\n",
        "mnist_trainset = torchvision.datasets.MNIST(root='./data', train=True, download=True, transform=transform)\n",
        "train_loader = torch.utils.data.DataLoader(mnist_trainset, batch_size=64, shuffle=True)\n",
        "\n",
        "# Dataset pengujian\n",
        "mnist_testset = torchvision.datasets.MNIST(root='./data', train=False, download=True, transform=transform)\n",
        "test_loader = torch.utils.data.DataLoader(mnist_testset, batch_size=64, shuffle=False)\n"
      ],
      "metadata": {
        "colab": {
          "base_uri": "https://localhost:8080/"
        },
        "id": "nQNg9tiljoIQ",
        "outputId": "8282edc7-3c94-4bea-9444-e2e015026152"
      },
      "execution_count": null,
      "outputs": [
        {
          "output_type": "stream",
          "name": "stdout",
          "text": [
            "Downloading http://yann.lecun.com/exdb/mnist/train-images-idx3-ubyte.gz\n",
            "Downloading http://yann.lecun.com/exdb/mnist/train-images-idx3-ubyte.gz to ./data/MNIST/raw/train-images-idx3-ubyte.gz\n"
          ]
        },
        {
          "output_type": "stream",
          "name": "stderr",
          "text": [
            "100%|██████████| 9912422/9912422 [00:00<00:00, 108625093.06it/s]\n"
          ]
        },
        {
          "output_type": "stream",
          "name": "stdout",
          "text": [
            "Extracting ./data/MNIST/raw/train-images-idx3-ubyte.gz to ./data/MNIST/raw\n",
            "\n",
            "Downloading http://yann.lecun.com/exdb/mnist/train-labels-idx1-ubyte.gz\n",
            "Downloading http://yann.lecun.com/exdb/mnist/train-labels-idx1-ubyte.gz to ./data/MNIST/raw/train-labels-idx1-ubyte.gz\n"
          ]
        },
        {
          "output_type": "stream",
          "name": "stderr",
          "text": [
            "100%|██████████| 28881/28881 [00:00<00:00, 45574000.69it/s]"
          ]
        },
        {
          "output_type": "stream",
          "name": "stdout",
          "text": [
            "Extracting ./data/MNIST/raw/train-labels-idx1-ubyte.gz to ./data/MNIST/raw\n",
            "\n",
            "Downloading http://yann.lecun.com/exdb/mnist/t10k-images-idx3-ubyte.gz\n",
            "Downloading http://yann.lecun.com/exdb/mnist/t10k-images-idx3-ubyte.gz to ./data/MNIST/raw/t10k-images-idx3-ubyte.gz\n"
          ]
        },
        {
          "output_type": "stream",
          "name": "stderr",
          "text": [
            "\n",
            "100%|██████████| 1648877/1648877 [00:00<00:00, 24427075.76it/s]\n"
          ]
        },
        {
          "output_type": "stream",
          "name": "stdout",
          "text": [
            "Extracting ./data/MNIST/raw/t10k-images-idx3-ubyte.gz to ./data/MNIST/raw\n",
            "\n",
            "Downloading http://yann.lecun.com/exdb/mnist/t10k-labels-idx1-ubyte.gz\n",
            "Downloading http://yann.lecun.com/exdb/mnist/t10k-labels-idx1-ubyte.gz to ./data/MNIST/raw/t10k-labels-idx1-ubyte.gz\n"
          ]
        },
        {
          "output_type": "stream",
          "name": "stderr",
          "text": [
            "100%|██████████| 4542/4542 [00:00<00:00, 1745832.91it/s]\n"
          ]
        },
        {
          "output_type": "stream",
          "name": "stdout",
          "text": [
            "Extracting ./data/MNIST/raw/t10k-labels-idx1-ubyte.gz to ./data/MNIST/raw\n",
            "\n"
          ]
        }
      ]
    },
    {
      "cell_type": "markdown",
      "source": [
        "###2. Visualize several MNIST datasets"
      ],
      "metadata": {
        "id": "rJ8Q00n8kHgs"
      }
    },
    {
      "cell_type": "code",
      "source": [
        "import matplotlib.pyplot as plt\n",
        "%matplotlib inline\n",
        "\n",
        "# Tentukan jumlah baris dan kolom untuk tampilan gambar\n",
        "num_rows = 2\n",
        "num_cols = 5\n",
        "\n",
        "# Definisikan fungsi untuk menampilkan gambar\n",
        "def plot_images(images, labels, num_rows, num_cols):\n",
        "    fig, axs = plt.subplots(num_rows, num_cols, figsize=(12, 6))\n",
        "    for i in range(num_rows):\n",
        "        for j in range(num_cols):\n",
        "            index = i * num_cols + j\n",
        "            axs[i, j].imshow(images[index].squeeze().numpy(), cmap='gray')\n",
        "            axs[i, j].set_title(f\"Label: {labels[index].item()}\", fontsize=10)\n",
        "            axs[i, j].axis('off')\n",
        "\n",
        "# Dapatkan beberapa gambar dan label\n",
        "images, labels = next(iter(train_loader))\n",
        "\n",
        "# Tampilkan gambar\n",
        "plot_images(images[:num_rows * num_cols], labels[:num_rows * num_cols], num_rows, num_cols)\n",
        "plt.show()"
      ],
      "metadata": {
        "colab": {
          "base_uri": "https://localhost:8080/",
          "height": 316
        },
        "id": "5XpdALQ8qkcz",
        "outputId": "c57c7b6d-342a-4e63-8328-b19a4821b173"
      },
      "execution_count": null,
      "outputs": [
        {
          "output_type": "display_data",
          "data": {
            "text/plain": [
              "<Figure size 1200x600 with 10 Axes>"
            ],
            "image/png": "[encoded data removed]"
          },
          "metadata": {}
        }
      ]
    },
    {
      "cell_type": "markdown",
      "source": [
        "###3. Design your Neural Network model"
      ],
      "metadata": {
        "id": "k96nXSxUkMLD"
      }
    },
    {
      "cell_type": "code",
      "source": [
        "# Define the neural network class\n",
        "class Net(nn.Module):\n",
        "    def __init__(self):\n",
        "        super(Net, self).__init__()\n",
        "        self.linear1 = nn.Linear(28*28, 100)\n",
        "        self.linear2 = nn.Linear(100, 50)\n",
        "        self.final = nn.Linear(50, 10)\n",
        "        self.relu = nn.ReLU()\n",
        "\n",
        "    def forward(self, img):\n",
        "        x = img.view(-1, 28*28)\n",
        "        x = self.relu(self.linear1(x))\n",
        "        x = self.relu(self.linear2(x))\n",
        "        x = self.final(x)\n",
        "        return x\n",
        "\n",
        "# Create an instance of the neural network\n",
        "net = Net()\n"
      ],
      "metadata": {
        "id": "5ktYbw7erEGm"
      },
      "execution_count": null,
      "outputs": []
    },
    {
      "cell_type": "markdown",
      "source": [
        "###4. Setup your hyperparameter such as Loss Function, Optimizer, Learning Rate, etc"
      ],
      "metadata": {
        "id": "5mqh5AZOkOAO"
      }
    },
    {
      "cell_type": "code",
      "source": [
        "# Define the loss function (criterion) and optimizer\n",
        "criterion = nn.CrossEntropyLoss()\n",
        "optimizer = optim.SGD(net.parameters(), lr=0.01)\n",
        "num_epochs = 10"
      ],
      "metadata": {
        "id": "BffrRzmYrRA-"
      },
      "execution_count": null,
      "outputs": []
    },
    {
      "cell_type": "markdown",
      "source": [
        "###5. Develop a training loop and run a training model"
      ],
      "metadata": {
        "id": "476bSVHikSdK"
      }
    },
    {
      "cell_type": "code",
      "source": [
        "# Example training loop (you should customize this based on your dataset and requirements)\n",
        "for epoch in range(num_epochs):\n",
        "    running_loss = 0.0\n",
        "    for i, data in enumerate(train_loader, 0):  # Assuming you have a train_loader\n",
        "        inputs, labels = data\n",
        "        optimizer.zero_grad()\n",
        "        outputs = net(inputs)\n",
        "        loss = criterion(outputs, labels)\n",
        "        loss.backward()\n",
        "        optimizer.step()\n",
        "        running_loss += loss.item()\n",
        "\n",
        "    print(f'Epoch {epoch+1}, Loss: {running_loss / len(train_loader)}')\n",
        "\n",
        "print('Training finished.')\n"
      ],
      "metadata": {
        "colab": {
          "base_uri": "https://localhost:8080/"
        },
        "id": "SXE7dgturf2J",
        "outputId": "301f9176-faea-48dc-b72a-469d8b4be076"
      },
      "execution_count": null,
      "outputs": [
        {
          "output_type": "stream",
          "name": "stdout",
          "text": [
            "Epoch 1, Loss: 0.17496395853560553\n",
            "Epoch 2, Loss: 0.16336809425577045\n",
            "Epoch 3, Loss: 0.1540969156646239\n",
            "Epoch 4, Loss: 0.1453815566272592\n",
            "Epoch 5, Loss: 0.13658918045770957\n",
            "Epoch 6, Loss: 0.12955503088872888\n",
            "Epoch 7, Loss: 0.12247259772694441\n",
            "Epoch 8, Loss: 0.11699652683629251\n",
            "Epoch 9, Loss: 0.11119450921260281\n",
            "Epoch 10, Loss: 0.10612713133713711\n",
            "Training finished.\n"
          ]
        }
      ]
    },
    {
      "cell_type": "markdown",
      "source": [
        "###6. Evaluate the Model using several performance metrics such as accuracy, confusion matrix, F1 Score, Precision, Recall, etc"
      ],
      "metadata": {
        "id": "J_xyrnjokZOg"
      }
    },
    {
      "cell_type": "code",
      "source": [
        "# Step 6: Evaluate the Model\n",
        "from sklearn.metrics import accuracy_score, confusion_matrix, classification_report, precision_score, f1_score\n",
        "\n",
        "correct = 0\n",
        "total = 0\n",
        "all_labels = []\n",
        "all_predictions = []\n",
        "\n",
        "with torch.no_grad():\n",
        "    for data in test_loader:\n",
        "        images, labels = data\n",
        "        outputs = net(images)\n",
        "        _, predicted = torch.max(outputs.data, 1)\n",
        "        total += labels.size(0)\n",
        "        correct += (predicted == labels).sum().item()\n",
        "        all_labels.extend(labels.numpy())\n",
        "        all_predictions.extend(predicted.numpy())\n",
        "\n",
        "accuracy = accuracy_score(all_labels, all_predictions)\n",
        "confusion = confusion_matrix(all_labels, all_predictions)\n",
        "classification_report_str = classification_report(all_labels, all_predictions)\n",
        "\n",
        "print(f\"Accuracy: {accuracy * 100}%\")\n",
        "print(\"Confusion Matrix:\")\n",
        "print(confusion)\n",
        "print(\"Classification Report:\")\n",
        "print(classification_report_str)"
      ],
      "metadata": {
        "colab": {
          "base_uri": "https://localhost:8080/"
        },
        "id": "a5r6sNTdkyjo",
        "outputId": "21c8137b-be3c-4f04-b316-ad313b5f3930"
      },
      "execution_count": null,
      "outputs": [
        {
          "output_type": "stream",
          "name": "stdout",
          "text": [
            "Accuracy: 96.32%\n",
            "Confusion Matrix:\n",
            "[[ 968    0    1    2    0    3    3    2    1    0]\n",
            " [   0 1118    4    1    0    1    4    2    5    0]\n",
            " [   6    1 1002    6    2    0    4    7    4    0]\n",
            " [   1    0    9  977    0    6    0    8    8    1]\n",
            " [   1    0    4    0  945    1    7    2    2   20]\n",
            " [   9    1    0    7    2  849    8    3   10    3]\n",
            " [  10    3    2    1    5   10  919    1    7    0]\n",
            " [   2    6   21    3    2    1    0  982    2    9]\n",
            " [   3    1    5   12    3    5    6    6  932    1]\n",
            " [   5    6    1   13   17    5    2   12    8  940]]\n",
            "Classification Report:\n",
            "              precision    recall  f1-score   support\n",
            "\n",
            "           0       0.96      0.99      0.98       980\n",
            "           1       0.98      0.99      0.98      1135\n",
            "           2       0.96      0.97      0.96      1032\n",
            "           3       0.96      0.97      0.96      1010\n",
            "           4       0.97      0.96      0.97       982\n",
            "           5       0.96      0.95      0.96       892\n",
            "           6       0.96      0.96      0.96       958\n",
            "           7       0.96      0.96      0.96      1028\n",
            "           8       0.95      0.96      0.95       974\n",
            "           9       0.97      0.93      0.95      1009\n",
            "\n",
            "    accuracy                           0.96     10000\n",
            "   macro avg       0.96      0.96      0.96     10000\n",
            "weighted avg       0.96      0.96      0.96     10000\n",
            "\n"
          ]
        }
      ]
    },
    {
      "cell_type": "markdown",
      "source": [
        "###7. Describe and explain your Result"
      ],
      "metadata": {
        "id": "kN-q3ldTkfti"
      }
    },
    {
      "cell_type": "markdown",
      "source": [
        "Dalam konteks pemodelan Deep Learning untuk menganalisis atau memprediksi tulisan tangan dalam dataset MNIST, terdapat hubungan positif antara jumlah data yang digunakan untuk pelatihan (train) dan pengujian (test) dengan hasil akurasi. Dengan kata lain, semakin banyak data yang Anda latih dan uji, semakin baik model Anda dalam mengenali digit tulisan tangan, yang tercermin dalam peningkatan persentase akurasi."
      ],
      "metadata": {
        "id": "x5XFWB0AjEfU"
      }
    }
  ]
}