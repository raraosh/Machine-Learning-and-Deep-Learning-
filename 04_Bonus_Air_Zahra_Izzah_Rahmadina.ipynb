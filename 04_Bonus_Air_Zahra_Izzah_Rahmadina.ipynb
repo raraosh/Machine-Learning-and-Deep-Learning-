{
  "nbformat": 4,
  "nbformat_minor": 0,
  "metadata": {
    "colab": {
      "provenance": []
    },
    "kernelspec": {
      "name": "python3",
      "display_name": "Python 3"
    },
    "language_info": {
      "name": "python"
    }
  },
  "cells": [
    {
      "cell_type": "markdown",
      "source": [
        "# **Bonus Task**\n",
        "This problem description is the same as Task 3. But there are some\n",
        "technical challenges that you have to choose one.\n",
        "1. Compare 3 different configurations while your model is\n",
        "wider/deeper. Show and explain the performance result.\n",
        "2. Compare 3 configurations for different Loss Function. Show and\n",
        "explain your performance result.\n",
        "\n",
        "3. Compare 3 configurations for the activation function. Show and\n",
        "explain your performance result."
      ],
      "metadata": {
        "id": "WnjabDbKAcZa"
      }
    },
    {
      "cell_type": "markdown",
      "source": [
        "## **Import Necessary Libraries:**"
      ],
      "metadata": {
        "id": "xZ-VKrNqV6zR"
      }
    },
    {
      "cell_type": "code",
      "execution_count": null,
      "metadata": {
        "id": "T--fPb9Ylqp1"
      },
      "outputs": [],
      "source": [
        "# Import the necessary libraries such as PyTorch, torchvision, and other utilities:\n",
        "import numpy as np\n",
        "import torch\n",
        "import torch.nn as nn\n",
        "import torch.optim as optim\n",
        "import torchvision\n",
        "import torchvision.transforms as transforms\n",
        "import matplotlib.pyplot as plt\n",
        "from sklearn.metrics import classification_report\n",
        "from sklearn.metrics import accuracy_score, f1_score, precision_score, recall_score, confusion_matrix"
      ]
    },
    {
      "cell_type": "markdown",
      "source": [
        "## **Load the MNIST Dataset:**"
      ],
      "metadata": {
        "id": "qGfReRKPWWFR"
      }
    },
    {
      "cell_type": "code",
      "source": [
        "# Load the MNIST dataset using the torchvision library and create data loaders for training and testing:\n",
        "transform = transforms.Compose([transforms.ToTensor(), transforms.Normalize((0.5,), (0.5,))])\n",
        "\n",
        "trainset = torchvision.datasets.MNIST(root='./data', train=True, download=True, transform=transform)\n",
        "trainloader = torch.utils.data.DataLoader(trainset, batch_size=64, shuffle=True)\n",
        "\n",
        "testset = torchvision.datasets.MNIST(root='./data', train=False, download=True, transform=transform)\n",
        "testloader = torch.utils.data.DataLoader(testset, batch_size=64, shuffle=False)"
      ],
      "metadata": {
        "id": "h7ZnclsTTOac",
        "colab": {
          "base_uri": "https://localhost:8080/"
        },
        "outputId": "38c4f362-4343-4868-ef2b-8fc7b8a68896"
      },
      "execution_count": null,
      "outputs": [
        {
          "output_type": "stream",
          "name": "stdout",
          "text": [
            "Downloading http://yann.lecun.com/exdb/mnist/train-images-idx3-ubyte.gz\n",
            "Downloading http://yann.lecun.com/exdb/mnist/train-images-idx3-ubyte.gz to ./data/MNIST/raw/train-images-idx3-ubyte.gz\n"
          ]
        },
        {
          "output_type": "stream",
          "name": "stderr",
          "text": [
            "100%|██████████| 9912422/9912422 [00:00<00:00, 102913233.18it/s]\n"
          ]
        },
        {
          "output_type": "stream",
          "name": "stdout",
          "text": [
            "Extracting ./data/MNIST/raw/train-images-idx3-ubyte.gz to ./data/MNIST/raw\n",
            "\n",
            "Downloading http://yann.lecun.com/exdb/mnist/train-labels-idx1-ubyte.gz\n",
            "Downloading http://yann.lecun.com/exdb/mnist/train-labels-idx1-ubyte.gz to ./data/MNIST/raw/train-labels-idx1-ubyte.gz\n"
          ]
        },
        {
          "output_type": "stream",
          "name": "stderr",
          "text": [
            "100%|██████████| 28881/28881 [00:00<00:00, 54688800.82it/s]"
          ]
        },
        {
          "output_type": "stream",
          "name": "stdout",
          "text": [
            "Extracting ./data/MNIST/raw/train-labels-idx1-ubyte.gz to ./data/MNIST/raw\n",
            "\n",
            "Downloading http://yann.lecun.com/exdb/mnist/t10k-images-idx3-ubyte.gz\n",
            "Downloading http://yann.lecun.com/exdb/mnist/t10k-images-idx3-ubyte.gz to ./data/MNIST/raw/t10k-images-idx3-ubyte.gz\n"
          ]
        },
        {
          "output_type": "stream",
          "name": "stderr",
          "text": [
            "\n",
            "100%|██████████| 1648877/1648877 [00:00<00:00, 24759211.09it/s]\n"
          ]
        },
        {
          "output_type": "stream",
          "name": "stdout",
          "text": [
            "Extracting ./data/MNIST/raw/t10k-images-idx3-ubyte.gz to ./data/MNIST/raw\n",
            "\n",
            "Downloading http://yann.lecun.com/exdb/mnist/t10k-labels-idx1-ubyte.gz\n",
            "Downloading http://yann.lecun.com/exdb/mnist/t10k-labels-idx1-ubyte.gz to ./data/MNIST/raw/t10k-labels-idx1-ubyte.gz\n"
          ]
        },
        {
          "output_type": "stream",
          "name": "stderr",
          "text": [
            "100%|██████████| 4542/4542 [00:00<00:00, 1094983.84it/s]"
          ]
        },
        {
          "output_type": "stream",
          "name": "stdout",
          "text": [
            "Extracting ./data/MNIST/raw/t10k-labels-idx1-ubyte.gz to ./data/MNIST/raw\n",
            "\n"
          ]
        },
        {
          "output_type": "stream",
          "name": "stderr",
          "text": [
            "\n"
          ]
        }
      ]
    },
    {
      "cell_type": "markdown",
      "source": [
        "## **Visualize the Data:**"
      ],
      "metadata": {
        "id": "FfVGws_1Wdo2"
      }
    },
    {
      "cell_type": "code",
      "source": [
        "# You can visualize some random samples from the dataset to get a sense of what the handwritten digits look like:\n",
        "def imshow(img):\n",
        "    img = img / 2 + 0.5  # Unnormalize\n",
        "    npimg = img.numpy()\n",
        "    plt.imshow(np.transpose(npimg, (1, 2, 0)))\n",
        "    plt.show()\n",
        "\n",
        "# Show random training images\n",
        "dataiter = iter(trainloader)\n",
        "images, labels = next(dataiter)\n",
        "imshow(torchvision.utils.make_grid(images))"
      ],
      "metadata": {
        "colab": {
          "base_uri": "https://localhost:8080/",
          "height": 435
        },
        "id": "_M66bfgKTSyn",
        "outputId": "6ce948f3-0c13-4b09-802f-0169383047c4"
      },
      "execution_count": null,
      "outputs": [
        {
          "output_type": "display_data",
          "data": {
            "text/plain": [
              "<Figure size 640x480 with 1 Axes>"
            ],
            "image/png": "[encoded data removed]"
          },
          "metadata": {}
        }
      ]
    },
    {
      "cell_type": "markdown",
      "source": [
        "## **Design Your Neural Network Model:**"
      ],
      "metadata": {
        "id": "W_5H4ZAGWj9A"
      }
    },
    {
      "cell_type": "code",
      "source": [
        "# Create a custom neural network model. For simplicity, you can start with a feedforward neural network with one hidden layer:\n",
        "class Net(nn.Module):\n",
        "    def __init__(self):\n",
        "        super(Net, self).__init__()\n",
        "        self.fc1 = nn.Linear(28 * 28, 128)\n",
        "        self.fc2 = nn.Linear(128, 10)\n",
        "\n",
        "    def forward(self, x):\n",
        "        x = x.view(-1, 28 * 28)  # Flatten the input\n",
        "        x = torch.relu(self.fc1(x))\n",
        "        x = self.fc2(x)\n",
        "        return x\n",
        "\n",
        "net = Net()"
      ],
      "metadata": {
        "id": "Ruz7abdcTuI6"
      },
      "execution_count": null,
      "outputs": []
    },
    {
      "cell_type": "markdown",
      "source": [
        "## **Set Hyperparameters and Define Loss Function and Optimizer:**"
      ],
      "metadata": {
        "id": "XG27E7GoWo-G"
      }
    },
    {
      "cell_type": "code",
      "source": [
        "# Define hyperparameters such as the learning rate, loss function, and optimizer:\n",
        "criterion = nn.CrossEntropyLoss()\n",
        "optimizer = optim.SGD(net.parameters(), lr=0.01, momentum=0.9)\n",
        "\n",
        "# Define the number of training epochs\n",
        "epochs = 10"
      ],
      "metadata": {
        "id": "a0b1CKNXT0_H"
      },
      "execution_count": null,
      "outputs": []
    },
    {
      "cell_type": "markdown",
      "source": [
        "## **Training Loop:**"
      ],
      "metadata": {
        "id": "ood956xhWu14"
      }
    },
    {
      "cell_type": "code",
      "source": [
        "#Implement the training loop to train your neural network:\n",
        "for epoch in range(epochs):\n",
        "    running_loss = 0.0\n",
        "    for i, data in enumerate(trainloader, 0):\n",
        "        inputs, labels = data\n",
        "\n",
        "        optimizer.zero_grad()\n",
        "\n",
        "        outputs = net(inputs)\n",
        "        loss = criterion(outputs, labels)\n",
        "        loss.backward()\n",
        "        optimizer.step()\n",
        "\n",
        "        running_loss += loss.item()\n",
        "\n",
        "    print(f\"Epoch {epoch + 1}, Loss: {running_loss / len(trainloader)}\")"
      ],
      "metadata": {
        "colab": {
          "base_uri": "https://localhost:8080/"
        },
        "id": "R2fjnc_CT4yR",
        "outputId": "6f9be78a-58b7-46d0-92b9-2fc90fdd3bee"
      },
      "execution_count": null,
      "outputs": [
        {
          "output_type": "stream",
          "name": "stdout",
          "text": [
            "Epoch 1, Loss: 0.375531715410414\n",
            "Epoch 2, Loss: 0.17945735429975587\n",
            "Epoch 3, Loss: 0.13446053298466257\n",
            "Epoch 4, Loss: 0.10720468680761548\n",
            "Epoch 5, Loss: 0.09181000143964725\n",
            "Epoch 6, Loss: 0.08151415375762307\n",
            "Epoch 7, Loss: 0.07312273047343175\n",
            "Epoch 8, Loss: 0.063742183499348\n",
            "Epoch 9, Loss: 0.05938951599561591\n",
            "Epoch 10, Loss: 0.05236849265405412\n"
          ]
        }
      ]
    },
    {
      "cell_type": "markdown",
      "source": [
        "## **Evaluate the Model:**"
      ],
      "metadata": {
        "id": "Bo8BAm_zWzcI"
      }
    },
    {
      "cell_type": "code",
      "source": [
        "# After training, evaluate the model using various performance metrics such as accuracy, confusion matrix, F1 Score, Precision, and Recall:\n",
        "def evaluate_model(model, dataloader):\n",
        "    model.eval()\n",
        "    all_preds = []\n",
        "    all_labels = []\n",
        "\n",
        "    with torch.no_grad():\n",
        "        for data in dataloader:\n",
        "            inputs, labels = data\n",
        "            outputs = model(inputs)\n",
        "            _, preds = torch.max(outputs, 1)\n",
        "            all_preds.extend(preds.cpu().numpy())\n",
        "            all_labels.extend(labels.cpu().numpy())\n",
        "\n",
        "    accuracy = accuracy_score(all_labels, all_preds)\n",
        "    f1 = f1_score(all_labels, all_preds, average='weighted')\n",
        "    precision = precision_score(all_labels, all_preds, average='weighted')\n",
        "    recall = recall_score(all_labels, all_preds, average='weighted')\n",
        "    cm = confusion_matrix(all_labels, all_preds)\n",
        "\n",
        "    return accuracy, f1, precision, recall, cm\n",
        "\n",
        "accuracy, f1, precision, recall, cm = evaluate_model(net, testloader)\n",
        "print(f\"Accuracy: {accuracy}\")\n",
        "print(f\"F1 Score: {f1}\")\n",
        "print(f\"Precision: {precision}\")\n",
        "print(f\"Recall: {recall}\")\n",
        "print(\"Confusion Matrix:\")\n",
        "print(cm)"
      ],
      "metadata": {
        "colab": {
          "base_uri": "https://localhost:8080/"
        },
        "id": "j496zdD3VCaC",
        "outputId": "ee8133e4-5540-46b4-ec80-8e55cd248d30"
      },
      "execution_count": null,
      "outputs": [
        {
          "output_type": "stream",
          "name": "stdout",
          "text": [
            "Accuracy: 0.9771\n",
            "F1 Score: 0.977108395671441\n",
            "Precision: 0.9772283139283705\n",
            "Recall: 0.9771\n",
            "Confusion Matrix:\n",
            "[[ 970    0    1    0    2    1    1    2    1    2]\n",
            " [   0 1123    3    2    0    2    2    2    1    0]\n",
            " [   4    2 1012    6    1    0    2    3    2    0]\n",
            " [   0    0    3  985    0   12    0    6    2    2]\n",
            " [   1    0    6    0  943    3    4    5    1   19]\n",
            " [   2    0    0    6    0  877    3    1    1    2]\n",
            " [   6    2    3    1    4    6  935    1    0    0]\n",
            " [   1    2   11    5    0    0    0 1004    0    5]\n",
            " [   3    0    4    6    4   10    2    3  939    3]\n",
            " [   1    2    0    4    6    6    2    5    0  983]]\n"
          ]
        }
      ]
    },
    {
      "cell_type": "code",
      "source": [
        "# Evaluate the model\n",
        "def evaluate_model(model, dataloader):\n",
        "    model.eval()\n",
        "    all_preds = []\n",
        "    all_labels = []\n",
        "\n",
        "    with torch.no_grad():\n",
        "        for data in dataloader:\n",
        "            inputs, labels = data\n",
        "            outputs = model(inputs)\n",
        "            _, preds = torch.max(outputs, 1)\n",
        "            all_preds.extend(preds.cpu().numpy())\n",
        "            all_labels.extend(labels.cpu().numpy())\n",
        "\n",
        "    return all_labels, all_preds\n",
        "\n",
        "true_labels, predicted_labels = evaluate_model(net, testloader)\n",
        "\n",
        "# Generate the classification report\n",
        "class_names = [str(i) for i in range(10)]  # MNIST class labels\n",
        "report = classification_report(true_labels, predicted_labels, target_names=class_names)\n",
        "print(\"Classification Report:\")\n",
        "print(report)"
      ],
      "metadata": {
        "colab": {
          "base_uri": "https://localhost:8080/"
        },
        "id": "NRwM-mY0YDNp",
        "outputId": "e153bca9-a773-4c4e-b257-bde80377d315"
      },
      "execution_count": null,
      "outputs": [
        {
          "output_type": "stream",
          "name": "stdout",
          "text": [
            "Classification Report:\n",
            "              precision    recall  f1-score   support\n",
            "\n",
            "           0       0.98      0.99      0.99       980\n",
            "           1       0.99      0.99      0.99      1135\n",
            "           2       0.97      0.98      0.98      1032\n",
            "           3       0.97      0.98      0.97      1010\n",
            "           4       0.98      0.96      0.97       982\n",
            "           5       0.96      0.98      0.97       892\n",
            "           6       0.98      0.98      0.98       958\n",
            "           7       0.97      0.98      0.97      1028\n",
            "           8       0.99      0.96      0.98       974\n",
            "           9       0.97      0.97      0.97      1009\n",
            "\n",
            "    accuracy                           0.98     10000\n",
            "   macro avg       0.98      0.98      0.98     10000\n",
            "weighted avg       0.98      0.98      0.98     10000\n",
            "\n"
          ]
        }
      ]
    },
    {
      "cell_type": "markdown",
      "source": [
        "Compare"
      ],
      "metadata": {
        "id": "HwAGfbZubHqh"
      }
    },
    {
      "cell_type": "code",
      "source": [
        "class WiderNet(nn.Module):\n",
        "    def __init__(self):\n",
        "        super(WiderNet, self).__init__()\n",
        "        self.fc1 = nn.Linear(28 * 28, 256)  # Wider hidden layer\n",
        "        self.fc2 = nn.Linear(256, 10)\n",
        "\n",
        "    def forward(self, x):\n",
        "        x = x.view(-1, 28 * 28)  # Flatten the input\n",
        "        x = torch.relu(self.fc1(x))\n",
        "        x = self.fc2(x)\n",
        "        return x\n",
        "\n",
        "wider_net = WiderNet()"
      ],
      "metadata": {
        "id": "oQukymALbJlp"
      },
      "execution_count": null,
      "outputs": []
    },
    {
      "cell_type": "code",
      "source": [
        "class DeeperNet(nn.Module):\n",
        "    def __init__(self):\n",
        "        super(DeeperNet, self).__init__()\n",
        "        self.fc1 = nn.Linear(28 * 28, 128)\n",
        "        self.fc2 = nn.Linear(128, 64)  # Additional hidden layer\n",
        "        self.fc3 = nn.Linear(64, 10)\n",
        "\n",
        "    def forward(self, x):\n",
        "        x = x.view(-1, 28 * 28)  # Flatten the input\n",
        "        x = torch.relu(self.fc1(x))\n",
        "        x = torch.relu(self.fc2(x))  # Additional hidden layer\n",
        "        x = self.fc3(x)\n",
        "        return x\n",
        "\n",
        "deeper_net = DeeperNet()"
      ],
      "metadata": {
        "id": "bLKVyFFrbOk3"
      },
      "execution_count": null,
      "outputs": []
    },
    {
      "cell_type": "code",
      "source": [
        "def evaluate_model(model, dataloader):\n",
        "    model.eval()\n",
        "    all_preds = []\n",
        "    all_labels = []\n",
        "\n",
        "    with torch.no_grad():\n",
        "        for data in dataloader:\n",
        "            inputs, labels = data\n",
        "            outputs = model(inputs)\n",
        "            _, preds = torch.max(outputs, 1)\n",
        "            all_preds.extend(preds.cpu().numpy())\n",
        "            all_labels.extend(labels.cpu().numpy())\n",
        "\n",
        "    accuracy = accuracy_score(all_labels, all_preds)\n",
        "    f1 = f1_score(all_labels, all_preds, average='weighted')\n",
        "    precision = precision_score(all_labels, all_preds, average='weighted')\n",
        "    recall = recall_score(all_labels, all_preds, average='weighted')\n",
        "    cm = confusion_matrix(all_labels, all_preds)\n",
        "\n",
        "    return accuracy, f1, precision, recall, cm"
      ],
      "metadata": {
        "id": "FFNGPCm9bP1n"
      },
      "execution_count": null,
      "outputs": []
    },
    {
      "cell_type": "code",
      "source": [
        "accuracy_wider, f1_wider, precision_wider, recall_wider, cm_wider = evaluate_model(wider_net, testloader)\n",
        "print(\"Wider Model Metrics:\")\n",
        "print(f\"Accuracy: {accuracy_wider}\")\n",
        "print(f\"F1 Score: {f1_wider}\")\n",
        "# Print other metrics as needed\n",
        "\n",
        "accuracy_deeper, f1_deeper, precision_deeper, recall_deeper, cm_deeper = evaluate_model(deeper_net, testloader)\n",
        "print(\"Deeper Model Metrics:\")\n",
        "print(f\"Accuracy: {accuracy_deeper}\")\n",
        "print(f\"F1 Score: {f1_deeper}\")"
      ],
      "metadata": {
        "colab": {
          "base_uri": "https://localhost:8080/"
        },
        "id": "tEHG-3Fhb_u-",
        "outputId": "5cf6f499-4483-4f9c-a42f-ac83375a4a75"
      },
      "execution_count": null,
      "outputs": [
        {
          "output_type": "stream",
          "name": "stderr",
          "text": [
            "/usr/local/lib/python3.10/dist-packages/sklearn/metrics/_classification.py:1344: UndefinedMetricWarning: Precision is ill-defined and being set to 0.0 in labels with no predicted samples. Use `zero_division` parameter to control this behavior.\n",
            "  _warn_prf(average, modifier, msg_start, len(result))\n"
          ]
        },
        {
          "output_type": "stream",
          "name": "stdout",
          "text": [
            "Wider Model Metrics:\n",
            "Accuracy: 0.1431\n",
            "F1 Score: 0.0626619215532403\n",
            "Deeper Model Metrics:\n",
            "Accuracy: 0.1308\n",
            "F1 Score: 0.0620272223576783\n"
          ]
        },
        {
          "output_type": "stream",
          "name": "stderr",
          "text": [
            "/usr/local/lib/python3.10/dist-packages/sklearn/metrics/_classification.py:1344: UndefinedMetricWarning: Precision is ill-defined and being set to 0.0 in labels with no predicted samples. Use `zero_division` parameter to control this behavior.\n",
            "  _warn_prf(average, modifier, msg_start, len(result))\n"
          ]
        }
      ]
    },
    {
      "cell_type": "markdown",
      "source": [
        "#**Compare 3 Different Configurations While Your Model is Wider/Deeper.**"
      ],
      "metadata": {
        "id": "BFZQ5rHjcPE_"
      }
    },
    {
      "cell_type": "code",
      "source": [
        "# Show and explain the performance result\n",
        "import torch\n",
        "import torch.nn as nn\n",
        "import torch.optim as optim\n",
        "import torchvision\n",
        "import torchvision.transforms as transforms\n",
        "from sklearn.metrics import accuracy_score, confusion_matrix, classification_report\n",
        "\n",
        "# Data preprocessing transformations\n",
        "transform = transforms.Compose([transforms.ToTensor(), transforms.Normalize((0.5,), (0.5,))])\n",
        "\n",
        "# Load the MNIST dataset\n",
        "trainset = torchvision.datasets.MNIST(root='./data', train=True, download=True, transform=transform)\n",
        "trainloader = torch.utils.data.DataLoader(trainset, batch_size=64, shuffle=True)\n",
        "\n",
        "testset = torchvision.datasets.MNIST(root='./data', train=False, download=True, transform=transform)\n",
        "testloader = torch.utils.data.DataLoader(testset, batch_size=64, shuffle=False)\n",
        "\n",
        "# Define a deeper neural network\n",
        "class DeepNet(nn.Module):\n",
        "    def __init__(self):\n",
        "        super(DeepNet, self).__init__()\n",
        "        self.fc1 = nn.Linear(28 * 28, 128)\n",
        "        self.fc2 = nn.Linear(128, 128)\n",
        "        self.fc3 = nn.Linear(128, 10)\n",
        "\n",
        "    def forward(self, x):\n",
        "        x = x.view(-1, 28 * 28)\n",
        "        x = torch.relu(self.fc1(x))\n",
        "        x = torch.relu(self.fc2(x))\n",
        "        x = self.fc3(x)\n",
        "        return x\n",
        "\n",
        "# Define a wider neural network\n",
        "class WideNet(nn.Module):\n",
        "    def __init__(self):\n",
        "        super(WideNet, self).__init__()\n",
        "        self.fc1 = nn.Linear(28 * 28, 256)\n",
        "        self.fc2 = nn.Linear(256, 10)\n",
        "\n",
        "    def forward(self, x):\n",
        "        x = x.view(-1, 28 * 28)\n",
        "        x = torch.relu(self.fc1(x))\n",
        "        x = self.fc2(x)\n",
        "        return x\n",
        "\n",
        "# Train and evaluate a given model\n",
        "def train_and_evaluate_model(model, trainloader, testloader, model_name):\n",
        "    criterion = nn.CrossEntropyLoss()\n",
        "    optimizer = optim.SGD(model.parameters(), lr=0.01, momentum=0.9)\n",
        "\n",
        "    epochs = 10\n",
        "    for epoch in range(epochs):\n",
        "        model.train()\n",
        "        running_loss = 0.0\n",
        "        for i, data in enumerate(trainloader, 0):\n",
        "            inputs, labels = data\n",
        "            optimizer.zero_grad()\n",
        "            outputs = model(inputs)\n",
        "            loss = criterion(outputs, labels)\n",
        "            loss.backward()\n",
        "            optimizer.step()\n",
        "            running_loss += loss.item()\n",
        "\n",
        "        print(f\"Epoch {epoch + 1}, Loss ({model_name}): {running_loss / len(trainloader)}\")\n",
        "\n",
        "    # Evaluation\n",
        "    model.eval()\n",
        "    all_preds = []\n",
        "    all_labels = []\n",
        "\n",
        "    with torch.no_grad():\n",
        "        for data in testloader:\n",
        "            inputs, labels = data\n",
        "            outputs = model(inputs)\n",
        "            _, preds = torch.max(outputs, 1)\n",
        "            all_preds.extend(preds.cpu().numpy())\n",
        "            all_labels.extend(labels.cpu().numpy())\n",
        "\n",
        "    accuracy = accuracy_score(all_labels, all_preds)\n",
        "    confusion = confusion_matrix(all_labels, all_preds)\n",
        "    class_report = classification_report(all_labels, all_preds)\n",
        "\n",
        "    print(f\"Accuracy ({model_name}): {accuracy * 100:.2f}%\")\n",
        "    print(\"Confusion Matrix:\")\n",
        "    print(confusion)\n",
        "    print(\"Classification Report:\")\n",
        "    print(class_report)\n",
        "\n",
        "# Compare three different configurations\n",
        "models = [\n",
        "    (DeepNet(), \"Deep Model\"),\n",
        "    (WideNet(), \"Wide Model\"),\n",
        "    (WideNet(), \"Deep and Wide Model\")\n",
        "]\n",
        "\n",
        "for model, model_name in models:\n",
        "    print(f\"Training and evaluating {model_name}:\")\n",
        "    train_and_evaluate_model(model, trainloader, testloader, model_name)"
      ],
      "metadata": {
        "colab": {
          "base_uri": "https://localhost:8080/"
        },
        "id": "lZEvBF5zCtLx",
        "outputId": "bbe3fd3e-c8ec-42ea-d62a-9c8912e6e5d0"
      },
      "execution_count": null,
      "outputs": [
        {
          "output_type": "stream",
          "name": "stdout",
          "text": [
            "Training and evaluating Deep Model:\n",
            "Epoch 1, Loss (Deep Model): 0.41521455255001466\n",
            "Epoch 2, Loss (Deep Model): 0.17290942689407862\n",
            "Epoch 3, Loss (Deep Model): 0.12613794182750906\n",
            "Epoch 4, Loss (Deep Model): 0.10077190562896034\n",
            "Epoch 5, Loss (Deep Model): 0.08792693411304887\n",
            "Epoch 6, Loss (Deep Model): 0.0736384967233795\n",
            "Epoch 7, Loss (Deep Model): 0.06525186583899192\n",
            "Epoch 8, Loss (Deep Model): 0.05731071912195049\n",
            "Epoch 9, Loss (Deep Model): 0.050475416651769064\n",
            "Epoch 10, Loss (Deep Model): 0.044477118299713035\n",
            "Accuracy (Deep Model): 97.67%\n",
            "Confusion Matrix:\n",
            "[[ 972    0    1    0    0    0    2    1    2    2]\n",
            " [   1 1122    4    2    0    1    1    0    3    1]\n",
            " [   5    0 1009    2    2    0    1    9    4    0]\n",
            " [   0    0    3  987    0    6    0    4    7    3]\n",
            " [   2    0    5    0  956    0    2    2    0   15]\n",
            " [   3    0    0    7    2  865    5    0    6    4]\n",
            " [   6    2    1    1    4    3  938    0    3    0]\n",
            " [   2    2   14    6    1    0    0  991    0   12]\n",
            " [   6    0    6    7    3    4    0    3  940    5]\n",
            " [   3    2    0    3    7    3    0    3    1  987]]\n",
            "Classification Report:\n",
            "              precision    recall  f1-score   support\n",
            "\n",
            "           0       0.97      0.99      0.98       980\n",
            "           1       0.99      0.99      0.99      1135\n",
            "           2       0.97      0.98      0.97      1032\n",
            "           3       0.97      0.98      0.97      1010\n",
            "           4       0.98      0.97      0.98       982\n",
            "           5       0.98      0.97      0.98       892\n",
            "           6       0.99      0.98      0.98       958\n",
            "           7       0.98      0.96      0.97      1028\n",
            "           8       0.97      0.97      0.97       974\n",
            "           9       0.96      0.98      0.97      1009\n",
            "\n",
            "    accuracy                           0.98     10000\n",
            "   macro avg       0.98      0.98      0.98     10000\n",
            "weighted avg       0.98      0.98      0.98     10000\n",
            "\n",
            "Training and evaluating Wide Model:\n",
            "Epoch 1, Loss (Wide Model): 0.3678769785275401\n",
            "Epoch 2, Loss (Wide Model): 0.16872555593938143\n",
            "Epoch 3, Loss (Wide Model): 0.11996880497163864\n",
            "Epoch 4, Loss (Wide Model): 0.09640636034796375\n",
            "Epoch 5, Loss (Wide Model): 0.0817077421510755\n",
            "Epoch 6, Loss (Wide Model): 0.07067371115658376\n",
            "Epoch 7, Loss (Wide Model): 0.06065199997222452\n",
            "Epoch 8, Loss (Wide Model): 0.055181036444643\n",
            "Epoch 9, Loss (Wide Model): 0.046665849132852544\n",
            "Epoch 10, Loss (Wide Model): 0.04079201088650827\n",
            "Accuracy (Wide Model): 97.22%\n",
            "Confusion Matrix:\n",
            "[[ 973    1    1    0    0    2    1    1    1    0]\n",
            " [   0 1125    3    1    0    1    1    1    3    0]\n",
            " [   3    0 1018    2    3    0    1    4    1    0]\n",
            " [   0    0    8  981    0   12    0    3    3    3]\n",
            " [   2    0    3    0  973    0    2    1    0    1]\n",
            " [   3    0    0    3    1  879    4    0    1    1]\n",
            " [   4    3    0    1    4    3  941    0    2    0]\n",
            " [   1   13   15    2    4    0    1  989    2    1]\n",
            " [   7    2    7    7    3    6    3    3  936    0]\n",
            " [   4    9    2    8   51    9    0    8   11  907]]\n",
            "Classification Report:\n",
            "              precision    recall  f1-score   support\n",
            "\n",
            "           0       0.98      0.99      0.98       980\n",
            "           1       0.98      0.99      0.98      1135\n",
            "           2       0.96      0.99      0.97      1032\n",
            "           3       0.98      0.97      0.97      1010\n",
            "           4       0.94      0.99      0.96       982\n",
            "           5       0.96      0.99      0.97       892\n",
            "           6       0.99      0.98      0.98       958\n",
            "           7       0.98      0.96      0.97      1028\n",
            "           8       0.97      0.96      0.97       974\n",
            "           9       0.99      0.90      0.94      1009\n",
            "\n",
            "    accuracy                           0.97     10000\n",
            "   macro avg       0.97      0.97      0.97     10000\n",
            "weighted avg       0.97      0.97      0.97     10000\n",
            "\n",
            "Training and evaluating Deep and Wide Model:\n",
            "Epoch 1, Loss (Deep and Wide Model): 0.3669234344930346\n",
            "Epoch 2, Loss (Deep and Wide Model): 0.1722745066389505\n",
            "Epoch 3, Loss (Deep and Wide Model): 0.12702889314322457\n",
            "Epoch 4, Loss (Deep and Wide Model): 0.09972220431886185\n",
            "Epoch 5, Loss (Deep and Wide Model): 0.08315642976384761\n",
            "Epoch 6, Loss (Deep and Wide Model): 0.07069211907045388\n",
            "Epoch 7, Loss (Deep and Wide Model): 0.06075865901591602\n",
            "Epoch 8, Loss (Deep and Wide Model): 0.05443615995760538\n",
            "Epoch 9, Loss (Deep and Wide Model): 0.04844415546811895\n",
            "Epoch 10, Loss (Deep and Wide Model): 0.04181505898326469\n",
            "Accuracy (Deep and Wide Model): 97.48%\n",
            "Confusion Matrix:\n",
            "[[ 963    0    1    2    2    2    2    0    4    4]\n",
            " [   0 1124    2    2    0    2    0    1    3    1]\n",
            " [   3    1 1009    7    2    0    0    1    8    1]\n",
            " [   0    0    3  990    0    2    0    1    4   10]\n",
            " [   0    0    4    1  966    0    2    1    0    8]\n",
            " [   3    1    0    7    2  868    2    0    6    3]\n",
            " [   4    3    1    1    8   10  925    0    5    1]\n",
            " [   1    4    9    6    6    0    0  966    1   35]\n",
            " [   0    0    1    6    7    5    0    2  948    5]\n",
            " [   2    1    0    5   11    0    0    1    0  989]]\n",
            "Classification Report:\n",
            "              precision    recall  f1-score   support\n",
            "\n",
            "           0       0.99      0.98      0.98       980\n",
            "           1       0.99      0.99      0.99      1135\n",
            "           2       0.98      0.98      0.98      1032\n",
            "           3       0.96      0.98      0.97      1010\n",
            "           4       0.96      0.98      0.97       982\n",
            "           5       0.98      0.97      0.97       892\n",
            "           6       0.99      0.97      0.98       958\n",
            "           7       0.99      0.94      0.97      1028\n",
            "           8       0.97      0.97      0.97       974\n",
            "           9       0.94      0.98      0.96      1009\n",
            "\n",
            "    accuracy                           0.97     10000\n",
            "   macro avg       0.98      0.97      0.97     10000\n",
            "weighted avg       0.98      0.97      0.97     10000\n",
            "\n"
          ]
        }
      ]
    },
    {
      "cell_type": "markdown",
      "source": [
        "# **Kesimpulan**\n",
        "\n",
        "Dalam menggambarkan temuan dari pelatihan dan evaluasi tiga variasi model (Deep Model, Wide Model, dan Deep and Wide Model) dengan menggunakan dataset MNIST, kita dapat menyusun beberapa kesimpulan penting:\n",
        "\n",
        "1. Accuracy\n",
        "> Ketiga model yang diuji berhasil mencapai tingkat akurasi yang sangat tinggi, dengan persentase akurasi melebihi 97%. Ini menandakan bahwa semua model memiliki kemampuan yang sangat baik dalam mengenali dan mengklasifikasikan angka-angka yang ada dalam dataset MNIST.\n",
        "\n",
        "2. Loss Function\n",
        "> Semua model menggunakan Cross-Entropy Loss sebagai fungsi kerugian selama proses pelatihan. Fungsi kerugian ini umum digunakan dalam tugas klasifikasi, dan hasilnya tampak sangat baik dalam konteks ini.\n",
        "\n",
        "3. Confusion Matrix\n",
        "> Confusion matrix untuk ketiga model menunjukkan bahwa sebagian besar tingkat prediksi yang benar tinggi, dengan sebagian besar prediksi yang benar. Meskipun demikian, beberapa kesalahan klasifikasi terjadi dalam beberapa kelas tertentu, seperti contohnya angka 9 pada model Wide, yang memiliki tingkat recall yang lebih rendah.\n",
        "\n",
        "4. Classification Report\n",
        "> CLaporan klasifikasi juga mengindikasikan bahwa semua model memiliki nilai-nilai presisi, recall, dan f1-score yang baik untuk mayoritas kelas. Kinerja paling baik terlihat pada kelas 1 dan 7.\n",
        "\n",
        "5. Komparasi Model\n",
        "> Deep Model dan Deep and Wide Model memiliki akurasi yang hampir seimbang, namun, Deep and Wide Model menunjukkan performa yang sedikit lebih unggul. Wide Model juga menghasilkan tingkat akurasi yang tinggi, meskipun dengan performa sedikit lebih rendah jika dibandingkan dengan dua model sebelumnya.\n",
        "\n",
        "Dengan demikian, dapat disimpulkan bahwa semua tiga konfigurasi model yang dievaluasi berhasil menghasilkan hasil yang sangat baik dalam tugas klasifikasi angka-angka MNIST. Pilihan antara menggunakan model Deep, Wide, atau Deep and Wide dapat didasarkan pada kebutuhan tugas khusus dan ketersediaan sumber daya yang ada."
      ],
      "metadata": {
        "id": "bi4_jSowKnEL"
      }
    },
    {
      "cell_type": "markdown",
      "source": [
        "# **Compare 3 configurations for the activation function.**"
      ],
      "metadata": {
        "id": "mfc767mxGpkp"
      }
    },
    {
      "cell_type": "code",
      "source": [
        "# Show and explain your performance result.\n",
        "import numpy as np\n",
        "import torch\n",
        "import torch.nn as nn\n",
        "import torch.optim as optim\n",
        "import torchvision\n",
        "import torchvision.transforms as transforms\n",
        "from sklearn.metrics import accuracy_score\n",
        "\n",
        "# Transformations for data preprocessing\n",
        "transform = transforms.Compose([transforms.ToTensor(), transforms.Normalize((0.5,), (0.5,))])\n",
        "\n",
        "# Load the MNIST dataset\n",
        "trainset = torchvision.datasets.MNIST(root='./data', train=True, download=True, transform=transform)\n",
        "trainloader = torch.utils.data.DataLoader(trainset, batch_size=64, shuffle=True)\n",
        "\n",
        "testset = torchvision.datasets.MNIST(root='./data', train=False, download=True, transform=transform)\n",
        "testloader = torch.utils.data.DataLoader(testset, batch_size=64, shuffle=False)\n",
        "\n",
        "# Define a neural network with different activation functions\n",
        "class Net(nn.Module):\n",
        "    def __init__(self, activation):\n",
        "        super(Net, self).__init__()\n",
        "        self.fc1 = nn.Linear(28 * 28, 128)\n",
        "        self.fc2 = nn.Linear(128, 10)\n",
        "        self.activation = activation\n",
        "\n",
        "    def forward(self, x):\n",
        "        x = x.view(-1, 28 * 28)\n",
        "        x = self.activation(self.fc1(x))\n",
        "        x = self.fc2(x)\n",
        "        return x\n",
        "\n",
        "# Define a function to train and evaluate the model\n",
        "def train_and_evaluate_model(model, trainloader, testloader, activation_name):\n",
        "    criterion = nn.CrossEntropyLoss()\n",
        "    optimizer = optim.SGD(model.parameters(), lr=0.01, momentum=0.9)\n",
        "\n",
        "    # Training loop\n",
        "    epochs = 10\n",
        "    for epoch in range(epochs):\n",
        "        model.train()\n",
        "        running_loss = 0.0\n",
        "        for i, data in enumerate(trainloader, 0):\n",
        "            inputs, labels = data\n",
        "            optimizer.zero_grad()\n",
        "            outputs = model(inputs)\n",
        "            loss = criterion(outputs, labels)\n",
        "            loss.backward()\n",
        "            optimizer.step()\n",
        "            running_loss += loss.item()\n",
        "\n",
        "        print(f\"Epoch {epoch + 1}, Loss: {running_loss / len(trainloader)}\")\n",
        "\n",
        "    # Evaluation\n",
        "    model.eval()\n",
        "    all_preds = []\n",
        "    all_labels = []\n",
        "\n",
        "    with torch.no_grad():\n",
        "        for data in testloader:\n",
        "            inputs, labels = data\n",
        "            outputs = model(inputs)\n",
        "            _, preds = torch.max(outputs, 1)\n",
        "            all_preds.extend(preds.cpu().numpy())\n",
        "            all_labels.extend(labels.cpu().numpy())\n",
        "\n",
        "    accuracy = accuracy_score(all_labels, all_preds)\n",
        "    print(f\"Accuracy ({activation_name}): {accuracy * 100:.2f}%\")\n",
        "\n",
        "# Test different activation functions\n",
        "activations = [nn.ReLU(), nn.Sigmoid(), nn.Tanh()]\n",
        "activation_names = ['ReLU', 'Sigmoid', 'Tanh']\n",
        "\n",
        "for activation, activation_name in zip(activations, activation_names):\n",
        "    model = Net(activation)\n",
        "    print(f\"Training and evaluating with {activation_name} activation function:\")\n",
        "    train_and_evaluate_model(model, trainloader, testloader, activation_name)"
      ],
      "metadata": {
        "colab": {
          "base_uri": "https://localhost:8080/"
        },
        "id": "0SZsj6W98_e0",
        "outputId": "06e7d6ac-41fa-468f-a982-c4b1d85786cf"
      },
      "execution_count": null,
      "outputs": [
        {
          "output_type": "stream",
          "name": "stdout",
          "text": [
            "Training and evaluating with ReLU activation function:\n",
            "Epoch 1, Loss: 0.3724849575213087\n",
            "Epoch 2, Loss: 0.17950752647970913\n",
            "Epoch 3, Loss: 0.13327124286621714\n",
            "Epoch 4, Loss: 0.10677786143635636\n",
            "Epoch 5, Loss: 0.090926455425174\n",
            "Epoch 6, Loss: 0.07694602120361889\n",
            "Epoch 7, Loss: 0.06886031632341429\n",
            "Epoch 8, Loss: 0.06238833421926652\n",
            "Epoch 9, Loss: 0.05590790595714328\n",
            "Epoch 10, Loss: 0.05131696728986503\n",
            "Accuracy (ReLU): 97.42%\n",
            "Training and evaluating with Sigmoid activation function:\n",
            "Epoch 1, Loss: 0.6434482822476674\n",
            "Epoch 2, Loss: 0.3065537700870398\n",
            "Epoch 3, Loss: 0.2584886137864737\n",
            "Epoch 4, Loss: 0.22341130672693887\n",
            "Epoch 5, Loss: 0.19734295153382744\n",
            "Epoch 6, Loss: 0.17747213103687332\n",
            "Epoch 7, Loss: 0.16082749270728783\n",
            "Epoch 8, Loss: 0.14700314486578012\n",
            "Epoch 9, Loss: 0.1352888014076202\n",
            "Epoch 10, Loss: 0.12547123537206256\n",
            "Accuracy (Sigmoid): 96.12%\n",
            "Training and evaluating with Tanh activation function:\n",
            "Epoch 1, Loss: 0.3697608447691271\n",
            "Epoch 2, Loss: 0.19584869091381144\n",
            "Epoch 3, Loss: 0.1450116930604934\n",
            "Epoch 4, Loss: 0.11823564249553534\n",
            "Epoch 5, Loss: 0.0988194119931856\n",
            "Epoch 6, Loss: 0.08596469688592658\n",
            "Epoch 7, Loss: 0.07477596479166211\n",
            "Epoch 8, Loss: 0.0671286135147423\n",
            "Epoch 9, Loss: 0.060608786167894634\n",
            "Epoch 10, Loss: 0.05502175179812541\n",
            "Accuracy (Tanh): 97.51%\n"
          ]
        }
      ]
    },
    {
      "cell_type": "code",
      "source": [
        "import numpy as np\n",
        "import torch\n",
        "import torch.nn as nn\n",
        "import torch.optim as optim\n",
        "import torchvision\n",
        "import torchvision.transforms as transforms\n",
        "from sklearn.metrics import accuracy_score, confusion_matrix, classification_report\n",
        "\n",
        "# Data preprocessing transformations\n",
        "transform = transforms.Compose([transforms.ToTensor(), transforms.Normalize((0.5,), (0.5,))])\n",
        "\n",
        "# Load the MNIST dataset\n",
        "trainset = torchvision.datasets.MNIST(root='./data', train=True, download=True, transform=transform)\n",
        "trainloader = torch.utils.data.DataLoader(trainset, batch_size=64, shuffle=True)\n",
        "\n",
        "testset = torchvision.datasets.MNIST(root='./data', train=False, download=True, transform=transform)\n",
        "testloader = torch.utils.data.DataLoader(testset, batch_size=64, shuffle=False)\n",
        "\n",
        "# Define a simple neural network\n",
        "class Net(nn.Module):\n",
        "    def __init__(self):\n",
        "        super(Net, self).__init__()\n",
        "        self.fc1 = nn.Linear(28 * 28, 128)\n",
        "        self.fc2 = nn.Linear(128, 10)\n",
        "\n",
        "    def forward(self, x):\n",
        "        x = x.view(-1, 28 * 28)\n",
        "        x = torch.relu(self.fc1(x))\n",
        "        x = self.fc2(x)\n",
        "        return x\n",
        "\n",
        "# Train the model\n",
        "def train_model(model, trainloader):\n",
        "    criterion = nn.CrossEntropyLoss()\n",
        "    optimizer = optim.SGD(model.parameters(), lr=0.01, momentum=0.9)\n",
        "\n",
        "    epochs = 10\n",
        "    for epoch in range(epochs):\n",
        "        model.train()\n",
        "        running_loss = 0.0\n",
        "        for i, data in enumerate(trainloader, 0):\n",
        "            inputs, labels = data\n",
        "            optimizer.zero_grad()\n",
        "            outputs = model(inputs)\n",
        "            loss = criterion(outputs, labels)\n",
        "            loss.backward()\n",
        "            optimizer.step()\n",
        "            running_loss += loss.item()\n",
        "\n",
        "        print(f\"Epoch {epoch + 1}, Loss: {running_loss / len(trainloader)}\")\n",
        "\n",
        "# Evaluate the model\n",
        "def evaluate_model(model, testloader):\n",
        "    model.eval()\n",
        "    all_preds = []\n",
        "    all_labels = []\n",
        "\n",
        "    with torch.no_grad():\n",
        "        for data in testloader:\n",
        "            inputs, labels = data\n",
        "            outputs = model(inputs)\n",
        "            _, preds = torch.max(outputs, 1)\n",
        "            all_preds.extend(preds.cpu().numpy())\n",
        "            all_labels.extend(labels.cpu().numpy())\n",
        "\n",
        "    accuracy = accuracy_score(all_labels, all_preds)\n",
        "    confusion = confusion_matrix(all_labels, all_preds)\n",
        "    class_report = classification_report(all_labels, all_preds)\n",
        "\n",
        "    return accuracy, confusion, class_report\n",
        "\n",
        "# Create and train the model\n",
        "model = Net()\n",
        "train_model(model, trainloader)\n",
        "\n",
        "# Evaluate the model and get accuracy, confusion matrix, and classification report\n",
        "accuracy, confusion, class_report = evaluate_model(model, testloader)\n",
        "\n",
        "print(f\"Accuracy: {accuracy * 100:.2f}%\")\n",
        "print(\"Confusion Matrix:\")\n",
        "print(confusion)\n",
        "print(\"Classification Report:\")\n",
        "print(class_report)"
      ],
      "metadata": {
        "colab": {
          "base_uri": "https://localhost:8080/"
        },
        "id": "VyvtM7Jj-OxS",
        "outputId": "0ac1e2a1-5eaa-4764-ab2e-28f2bc357149"
      },
      "execution_count": null,
      "outputs": [
        {
          "output_type": "stream",
          "name": "stdout",
          "text": [
            "Epoch 1, Loss: 0.3710167120133382\n",
            "Epoch 2, Loss: 0.18058946320036454\n",
            "Epoch 3, Loss: 0.1334104561654013\n",
            "Epoch 4, Loss: 0.10699538663645257\n",
            "Epoch 5, Loss: 0.09247591067601972\n",
            "Epoch 6, Loss: 0.08069652923519836\n",
            "Epoch 7, Loss: 0.0720733811916001\n",
            "Epoch 8, Loss: 0.06526294799803543\n",
            "Epoch 9, Loss: 0.0576022726082519\n",
            "Epoch 10, Loss: 0.05311219598293734\n",
            "Accuracy: 97.59%\n",
            "Confusion Matrix:\n",
            "[[ 968    0    0    2    0    2    2    1    2    3]\n",
            " [   0 1114    3    1    0    2    2    5    5    3]\n",
            " [   4    0  995    5    3    0    0   11   14    0]\n",
            " [   0    0    2  994    1    2    0    4    4    3]\n",
            " [   1    0    3    1  942    0    3    3    3   26]\n",
            " [   3    0    0   13    1  867    2    1    3    2]\n",
            " [   9    1    0    1    4    7  933    0    3    0]\n",
            " [   1    1    4    3    0    0    0 1010    1    8]\n",
            " [   3    0    2    7    1    4    1    5  949    2]\n",
            " [   1    1    0    4    4    1    1    7    3  987]]\n",
            "Classification Report:\n",
            "              precision    recall  f1-score   support\n",
            "\n",
            "           0       0.98      0.99      0.98       980\n",
            "           1       1.00      0.98      0.99      1135\n",
            "           2       0.99      0.96      0.98      1032\n",
            "           3       0.96      0.98      0.97      1010\n",
            "           4       0.99      0.96      0.97       982\n",
            "           5       0.98      0.97      0.98       892\n",
            "           6       0.99      0.97      0.98       958\n",
            "           7       0.96      0.98      0.97      1028\n",
            "           8       0.96      0.97      0.97       974\n",
            "           9       0.95      0.98      0.97      1009\n",
            "\n",
            "    accuracy                           0.98     10000\n",
            "   macro avg       0.98      0.98      0.98     10000\n",
            "weighted avg       0.98      0.98      0.98     10000\n",
            "\n"
          ]
        }
      ]
    },
    {
      "cell_type": "markdown",
      "source": [
        "# **Kesimpulan**\n",
        "\n",
        "Berdasarkan analisis yang telah dilakukan, melatih dan mengevaluasi model neural network menggunakan tiga jenis fungsi aktivasi yang berbeda: ReLU, Sigmoid, dan Tanh. Berikut adalah kesimpulan dari hasil yang kami peroleh:\n",
        "\n",
        "1. ReLU Activation Function:\n",
        "\n",
        "> - Akurasi: 97.42%\n",
        "> - Loss: Mengalami penurunan yang signifikan selama proses pelatihan.\n",
        "> - Kesimpulan: Fungsi aktivasi ReLU terbukti sangat efektif dalam tugas klasifikasi ini, menghasilkan tingkat akurasi yang sangat baik.\n",
        "\n",
        "2. Sigmoid Activation Function:\n",
        "\n",
        "> - Akurasi: 96.12%\n",
        "> - Loss: Mengalami penurunan, namun dengan laju yang sedikit lebih lambat dibandingkan dengan ReLU.\n",
        "> - Kesimpulan: Fungsi aktivasi Sigmoid juga menghasilkan akurasi yang baik, tetapi proses konvergensi lebih lambat dan kurang efisien dibandingkan dengan ReLU dalam konteks ini.\n",
        "\n",
        "3. Tanh Activation Function:\n",
        "\n",
        "> - Akurasi: 97.51%\n",
        "> - Loss: Mengalami penurunan yang baik selama proses pelatihan.\n",
        "> - Kesimpulan: Fungsi aktivasi Tanh juga menghasilkan tingkat akurasi yang baik dan merupakan alternatif yang valid untuk ReLU.\n",
        "\n",
        "4. Perbandingan:\n",
        "\n",
        "> - Fungsi aktivasi ReLU dan Tanh memberikan hasil yang sangat baik, dengan Tanh sedikit unggul dalam hal akurasi.\n",
        "> - Fungsi aktivasi Sigmoid, meskipun menghasilkan akurasi yang baik, cenderung lebih lambat dalam mencapai konvergensi dan mencapai tingkat akurasi yang sedikit lebih rendah.\n",
        "\n",
        "Pilihan antara menggunakan fungsi aktivasi ReLU, Sigmoid, atau Tanh dapat bergantung pada karakteristik tugas yang spesifik dan memerlukan eksperimen lebih lanjut. Dalam banyak kasus, fungsi aktivasi ReLU seringkali menjadi pilihan yang umum dan efisien, terutama dalam tugas klasifikasi seperti yang kami lakukan pada dataset MNIST."
      ],
      "metadata": {
        "id": "cUcIN8hdLXhk"
      }
    }
  ]
}